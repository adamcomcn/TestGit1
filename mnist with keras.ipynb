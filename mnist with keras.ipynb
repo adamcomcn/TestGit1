{
 "cells": [
  {
   "cell_type": "code",
   "execution_count": 1,
   "metadata": {},
   "outputs": [
    {
     "name": "stderr",
     "output_type": "stream",
     "text": [
      "Using TensorFlow backend.\n"
     ]
    }
   ],
   "source": [
    "import keras\n",
    "from keras import layers\n",
    "import matplotlib.pyplot as plt\n",
    "%matplotlib inline"
   ]
  },
  {
   "cell_type": "code",
   "execution_count": 2,
   "metadata": {},
   "outputs": [],
   "source": [
    "import keras.datasets.mnist as mnist"
   ]
  },
  {
   "cell_type": "code",
   "execution_count": 4,
   "metadata": {},
   "outputs": [
    {
     "name": "stdout",
     "output_type": "stream",
     "text": [
      "Downloading data from https://s3.amazonaws.com/img-datasets/mnist.npz\n",
      "11493376/11490434 [==============================] - 16s 1us/step\n"
     ]
    }
   ],
   "source": [
    "(train_images, train_labels), (test_images, test_labels) = keras.datasets.mnist.load_data()"
   ]
  },
  {
   "cell_type": "code",
   "execution_count": 28,
   "metadata": {},
   "outputs": [
    {
     "data": {
      "text/plain": [
       "(60000, 28, 28)"
      ]
     },
     "execution_count": 28,
     "metadata": {},
     "output_type": "execute_result"
    }
   ],
   "source": [
    "train_images.shape"
   ]
  },
  {
   "cell_type": "code",
   "execution_count": 6,
   "metadata": {},
   "outputs": [],
   "source": [
    "(train_images, train_labels), (test_images, test_labels) = keras.datasets.mnist.load_data()"
   ]
  },
  {
   "cell_type": "code",
   "execution_count": 7,
   "metadata": {},
   "outputs": [
    {
     "data": {
      "text/plain": [
       "(60000, 28, 28)"
      ]
     },
     "execution_count": 7,
     "metadata": {},
     "output_type": "execute_result"
    }
   ],
   "source": [
    "train_images.shape"
   ]
  },
  {
   "cell_type": "code",
   "execution_count": 8,
   "metadata": {},
   "outputs": [
    {
     "data": {
      "text/plain": [
       "<matplotlib.image.AxesImage at 0x62f43cd50>"
      ]
     },
     "execution_count": 8,
     "metadata": {},
     "output_type": "execute_result"
    },
    {
     "data": {
      "image/png": "[encoded data removed]",
      "text/plain": [
       "<Figure size 432x288 with 1 Axes>"
      ]
     },
     "metadata": {
      "needs_background": "light"
     },
     "output_type": "display_data"
    }
   ],
   "source": [
    "plt.imshow(train_images[0])"
   ]
  },
  {
   "cell_type": "code",
   "execution_count": 11,
   "metadata": {},
   "outputs": [
    {
     "data": {
      "text/plain": [
       "5"
      ]
     },
     "execution_count": 11,
     "metadata": {},
     "output_type": "execute_result"
    }
   ],
   "source": [
    "train_labels[0]"
   ]
  },
  {
   "cell_type": "code",
   "execution_count": 14,
   "metadata": {},
   "outputs": [
    {
     "data": {
      "text/plain": [
       "<matplotlib.image.AxesImage at 0x635e3c610>"
      ]
     },
     "execution_count": 14,
     "metadata": {},
     "output_type": "execute_result"
    },
    {
     "data": {
      "image/png": "[encoded data removed]",
      "text/plain": [
       "<Figure size 432x288 with 1 Axes>"
      ]
     },
     "metadata": {
      "needs_background": "light"
     },
     "output_type": "display_data"
    }
   ],
   "source": [
    "plt.imshow(train_images[1000])"
   ]
  },
  {
   "cell_type": "code",
   "execution_count": 16,
   "metadata": {},
   "outputs": [
    {
     "data": {
      "text/plain": [
       "((10000, 28, 28), (10000,))"
      ]
     },
     "execution_count": 16,
     "metadata": {},
     "output_type": "execute_result"
    }
   ],
   "source": [
    "test_images.shape, test_labels.shape"
   ]
  },
  {
   "cell_type": "code",
   "execution_count": 17,
   "metadata": {},
   "outputs": [],
   "source": [
    "model = keras.Sequential()\n",
    "model.add(layers.Flatten())\n",
    "model.add(layers.Dense(64, activation='relu'))\n",
    "model.add(layers.Dense(10, activation='softmax'))"
   ]
  },
  {
   "cell_type": "code",
   "execution_count": 18,
   "metadata": {},
   "outputs": [],
   "source": [
    "model.compile(optimizer='adam', loss='sparse_categorical_crossentropy',\n",
    "             metrics=['acc'])"
   ]
  },
  {
   "cell_type": "code",
   "execution_count": 20,
   "metadata": {},
   "outputs": [
    {
     "name": "stdout",
     "output_type": "stream",
     "text": [
      "Epoch 1/50\n",
      "60000/60000 [==============================] - 1s 11us/step - loss: 10.6454 - acc: 0.7801\n",
      "Epoch 2/50\n",
      "60000/60000 [==============================] - 0s 8us/step - loss: 1.8668 - acc: 0.8559\n",
      "Epoch 3/50\n",
      "60000/60000 [==============================] - 0s 6us/step - loss: 0.8840 - acc: 0.8496\n",
      "Epoch 4/50\n",
      "60000/60000 [==============================] - 0s 7us/step - loss: 0.6045 - acc: 0.8750\n",
      "Epoch 5/50\n",
      "60000/60000 [==============================] - 0s 7us/step - loss: 0.4819 - acc: 0.8941\n",
      "Epoch 6/50\n",
      "60000/60000 [==============================] - 0s 7us/step - loss: 0.3998 - acc: 0.9073\n",
      "Epoch 7/50\n",
      "60000/60000 [==============================] - 0s 7us/step - loss: 0.3433 - acc: 0.9164\n",
      "Epoch 8/50\n",
      "60000/60000 [==============================] - 0s 7us/step - loss: 0.3017 - acc: 0.9233\n",
      "Epoch 9/50\n",
      "60000/60000 [==============================] - 0s 7us/step - loss: 0.2731 - acc: 0.9292\n",
      "Epoch 10/50\n",
      "60000/60000 [==============================] - 0s 7us/step - loss: 0.2437 - acc: 0.9344\n",
      "Epoch 11/50\n",
      "60000/60000 [==============================] - 0s 7us/step - loss: 0.2285 - acc: 0.9391\n",
      "Epoch 12/50\n",
      "60000/60000 [==============================] - 0s 7us/step - loss: 0.2041 - acc: 0.9434\n",
      "Epoch 13/50\n",
      "60000/60000 [==============================] - 0s 7us/step - loss: 0.1906 - acc: 0.9453\n",
      "Epoch 14/50\n",
      "60000/60000 [==============================] - 0s 7us/step - loss: 0.1780 - acc: 0.9481\n",
      "Epoch 15/50\n",
      "60000/60000 [==============================] - 0s 7us/step - loss: 0.1645 - acc: 0.9514\n",
      "Epoch 16/50\n",
      "60000/60000 [==============================] - 0s 7us/step - loss: 0.1522 - acc: 0.9549\n",
      "Epoch 17/50\n",
      "60000/60000 [==============================] - 0s 7us/step - loss: 0.1448 - acc: 0.9567A: 0s - loss: 0.1452 - acc: 0.956\n",
      "Epoch 18/50\n",
      "60000/60000 [==============================] - 0s 7us/step - loss: 0.1342 - acc: 0.9602\n",
      "Epoch 19/50\n",
      "60000/60000 [==============================] - 0s 7us/step - loss: 0.1261 - acc: 0.9618\n",
      "Epoch 20/50\n",
      "60000/60000 [==============================] - 0s 7us/step - loss: 0.1190 - acc: 0.9634\n",
      "Epoch 21/50\n",
      "60000/60000 [==============================] - 0s 7us/step - loss: 0.1156 - acc: 0.9646\n",
      "Epoch 22/50\n",
      "60000/60000 [==============================] - 0s 8us/step - loss: 0.1099 - acc: 0.9658\n",
      "Epoch 23/50\n",
      "60000/60000 [==============================] - 0s 7us/step - loss: 0.1102 - acc: 0.9657\n",
      "Epoch 24/50\n",
      "60000/60000 [==============================] - 0s 7us/step - loss: 0.1026 - acc: 0.9684\n",
      "Epoch 25/50\n",
      "60000/60000 [==============================] - 0s 7us/step - loss: 0.0997 - acc: 0.9693\n",
      "Epoch 26/50\n",
      "60000/60000 [==============================] - 0s 7us/step - loss: 0.0984 - acc: 0.9699\n",
      "Epoch 27/50\n",
      "60000/60000 [==============================] - 0s 8us/step - loss: 0.0988 - acc: 0.9694\n",
      "Epoch 28/50\n",
      "60000/60000 [==============================] - 0s 8us/step - loss: 0.0912 - acc: 0.9722\n",
      "Epoch 29/50\n",
      "60000/60000 [==============================] - 1s 10us/step - loss: 0.0854 - acc: 0.9734\n",
      "Epoch 30/50\n",
      "60000/60000 [==============================] - 0s 8us/step - loss: 0.0833 - acc: 0.9741\n",
      "Epoch 31/50\n",
      "60000/60000 [==============================] - 0s 8us/step - loss: 0.0783 - acc: 0.9754\n",
      "Epoch 32/50\n",
      "60000/60000 [==============================] - 1s 9us/step - loss: 0.0761 - acc: 0.9767\n",
      "Epoch 33/50\n",
      "60000/60000 [==============================] - 1s 12us/step - loss: 0.0784 - acc: 0.9752\n",
      "Epoch 34/50\n",
      "60000/60000 [==============================] - 1s 9us/step - loss: 0.0752 - acc: 0.9765\n",
      "Epoch 35/50\n",
      "60000/60000 [==============================] - 0s 7us/step - loss: 0.0716 - acc: 0.9779\n",
      "Epoch 36/50\n",
      "60000/60000 [==============================] - 0s 8us/step - loss: 0.0691 - acc: 0.9783\n",
      "Epoch 37/50\n",
      "60000/60000 [==============================] - 0s 7us/step - loss: 0.0759 - acc: 0.9768\n",
      "Epoch 38/50\n",
      "60000/60000 [==============================] - 0s 8us/step - loss: 0.0722 - acc: 0.9777\n",
      "Epoch 39/50\n",
      "60000/60000 [==============================] - 1s 13us/step - loss: 0.0685 - acc: 0.9784\n",
      "Epoch 40/50\n",
      "60000/60000 [==============================] - 1s 10us/step - loss: 0.0702 - acc: 0.9782\n",
      "Epoch 41/50\n",
      "60000/60000 [==============================] - 0s 7us/step - loss: 0.0661 - acc: 0.9794\n",
      "Epoch 42/50\n",
      "60000/60000 [==============================] - 0s 7us/step - loss: 0.0636 - acc: 0.9801\n",
      "Epoch 43/50\n",
      "60000/60000 [==============================] - 1s 10us/step - loss: 0.0694 - acc: 0.9788\n",
      "Epoch 44/50\n",
      "60000/60000 [==============================] - 0s 8us/step - loss: 0.0658 - acc: 0.9796\n",
      "Epoch 45/50\n",
      "60000/60000 [==============================] - 0s 7us/step - loss: 0.0674 - acc: 0.9795\n",
      "Epoch 46/50\n",
      "60000/60000 [==============================] - 1s 8us/step - loss: 0.0686 - acc: 0.9789\n",
      "Epoch 47/50\n",
      "60000/60000 [==============================] - 0s 8us/step - loss: 0.0609 - acc: 0.9813\n",
      "Epoch 48/50\n",
      "60000/60000 [==============================] - 0s 8us/step - loss: 0.0610 - acc: 0.9805\n",
      "Epoch 49/50\n",
      "60000/60000 [==============================] - 0s 8us/step - loss: 0.0611 - acc: 0.9812\n",
      "Epoch 50/50\n",
      "60000/60000 [==============================] - 0s 6us/step - loss: 0.0565 - acc: 0.9826\n"
     ]
    },
    {
     "data": {
      "text/plain": [
       "<keras.callbacks.callbacks.History at 0x1037bbc50>"
      ]
     },
     "execution_count": 20,
     "metadata": {},
     "output_type": "execute_result"
    }
   ],
   "source": [
    "model.fit(train_images, train_labels, epochs=50, batch_size=512)"
   ]
  },
  {
   "cell_type": "code",
   "execution_count": 21,
   "metadata": {},
   "outputs": [
    {
     "name": "stdout",
     "output_type": "stream",
     "text": [
      "10000/10000 [==============================] - 0s 31us/step\n"
     ]
    },
    {
     "data": {
      "text/plain": [
       "[0.35163129611255717, 0.9513999819755554]"
      ]
     },
     "execution_count": 21,
     "metadata": {},
     "output_type": "execute_result"
    }
   ],
   "source": [
    "model.evaluate(test_images, test_labels)"
   ]
  },
  {
   "cell_type": "code",
   "execution_count": 22,
   "metadata": {},
   "outputs": [],
   "source": [
    "import numpy as np"
   ]
  },
  {
   "cell_type": "code",
   "execution_count": 25,
   "metadata": {},
   "outputs": [
    {
     "data": {
      "text/plain": [
       "array([7, 2, 1, 0, 4, 1, 9, 9, 5, 9])"
      ]
     },
     "execution_count": 25,
     "metadata": {},
     "output_type": "execute_result"
    }
   ],
   "source": [
    "np.argmax(model.predict(test_images[:10]),axis=1)"
   ]
  },
  {
   "cell_type": "code",
   "execution_count": 27,
   "metadata": {},
   "outputs": [
    {
     "data": {
      "text/plain": [
       "array([7, 2, 1, 0, 4, 1, 4, 9, 5, 9], dtype=uint8)"
      ]
     },
     "execution_count": 27,
     "metadata": {},
     "output_type": "execute_result"
    }
   ],
   "source": [
    "test_labels[:10]"
   ]
  },
  {
   "cell_type": "markdown",
   "metadata": {},
   "source": [
    "##模型的优化(增大网络容量）"
   ]
  },
  {
   "cell_type": "code",
   "execution_count": 29,
   "metadata": {},
   "outputs": [],
   "source": [
    "model = keras.Sequential()\n",
    "model.add(layers.Flatten())\n",
    "model.add(layers.Dense(64, activation='relu'))\n",
    "model.add(layers.Dense(64, activation='relu'))\n",
    "model.add(layers.Dense(64, activation='relu'))\n",
    "model.add(layers.Dense(10, activation='softmax'))"
   ]
  },
  {
   "cell_type": "code",
   "execution_count": 30,
   "metadata": {},
   "outputs": [],
   "source": [
    "model.compile(optimizer='adam', loss='sparse_categorical_crossentropy',\n",
    "             metrics=['acc'])"
   ]
  },
  {
   "cell_type": "code",
   "execution_count": 31,
   "metadata": {},
   "outputs": [
    {
     "name": "stdout",
     "output_type": "stream",
     "text": [
      "Train on 60000 samples, validate on 10000 samples\n",
      "Epoch 1/50\n",
      "60000/60000 [==============================] - 1s 18us/step - loss: 4.4807 - acc: 0.7374 - val_loss: 0.9784 - val_acc: 0.8508\n",
      "Epoch 2/50\n",
      "60000/60000 [==============================] - 1s 10us/step - loss: 0.7487 - acc: 0.8692 - val_loss: 0.6277 - val_acc: 0.8815\n",
      "Epoch 3/50\n",
      "60000/60000 [==============================] - 1s 10us/step - loss: 0.4671 - acc: 0.8990 - val_loss: 0.4651 - val_acc: 0.9010\n",
      "Epoch 4/50\n",
      "60000/60000 [==============================] - 1s 10us/step - loss: 0.3440 - acc: 0.9183 - val_loss: 0.3985 - val_acc: 0.9099\n",
      "Epoch 5/50\n",
      "60000/60000 [==============================] - 1s 11us/step - loss: 0.2723 - acc: 0.9305 - val_loss: 0.3699 - val_acc: 0.9173\n",
      "Epoch 6/50\n",
      "60000/60000 [==============================] - 1s 10us/step - loss: 0.2254 - acc: 0.9407 - val_loss: 0.3314 - val_acc: 0.9240\n",
      "Epoch 7/50\n",
      "60000/60000 [==============================] - 1s 10us/step - loss: 0.1894 - acc: 0.9473 - val_loss: 0.3008 - val_acc: 0.9315\n",
      "Epoch 8/50\n",
      "60000/60000 [==============================] - 1s 10us/step - loss: 0.1625 - acc: 0.9549 - val_loss: 0.2818 - val_acc: 0.9348\n",
      "Epoch 9/50\n",
      "60000/60000 [==============================] - 1s 10us/step - loss: 0.1392 - acc: 0.9608 - val_loss: 0.2797 - val_acc: 0.9343\n",
      "Epoch 10/50\n",
      "60000/60000 [==============================] - 1s 10us/step - loss: 0.1258 - acc: 0.9642 - val_loss: 0.2751 - val_acc: 0.9374\n",
      "Epoch 11/50\n",
      "60000/60000 [==============================] - 1s 12us/step - loss: 0.1102 - acc: 0.9668 - val_loss: 0.2694 - val_acc: 0.9394\n",
      "Epoch 12/50\n",
      "60000/60000 [==============================] - 1s 12us/step - loss: 0.1003 - acc: 0.9698 - val_loss: 0.2579 - val_acc: 0.9428\n",
      "Epoch 13/50\n",
      "60000/60000 [==============================] - 1s 11us/step - loss: 0.0901 - acc: 0.9726 - val_loss: 0.2601 - val_acc: 0.9422\n",
      "Epoch 14/50\n",
      "60000/60000 [==============================] - 1s 12us/step - loss: 0.0860 - acc: 0.9738 - val_loss: 0.2546 - val_acc: 0.9439\n",
      "Epoch 15/50\n",
      "60000/60000 [==============================] - 1s 11us/step - loss: 0.0744 - acc: 0.9775 - val_loss: 0.2597 - val_acc: 0.9447\n",
      "Epoch 16/50\n",
      "60000/60000 [==============================] - 1s 11us/step - loss: 0.0698 - acc: 0.9783 - val_loss: 0.2445 - val_acc: 0.9471\n",
      "Epoch 17/50\n",
      "60000/60000 [==============================] - 1s 11us/step - loss: 0.0631 - acc: 0.9802 - val_loss: 0.2578 - val_acc: 0.9460\n",
      "Epoch 18/50\n",
      "60000/60000 [==============================] - 1s 9us/step - loss: 0.0626 - acc: 0.9800 - val_loss: 0.2644 - val_acc: 0.9447\n",
      "Epoch 19/50\n",
      "60000/60000 [==============================] - 1s 9us/step - loss: 0.0589 - acc: 0.9809 - val_loss: 0.2531 - val_acc: 0.9482\n",
      "Epoch 20/50\n",
      "60000/60000 [==============================] - 1s 12us/step - loss: 0.0513 - acc: 0.9838 - val_loss: 0.2471 - val_acc: 0.9483\n",
      "Epoch 21/50\n",
      "60000/60000 [==============================] - 1s 11us/step - loss: 0.0480 - acc: 0.9848 - val_loss: 0.2624 - val_acc: 0.9476\n",
      "Epoch 22/50\n",
      "60000/60000 [==============================] - 1s 10us/step - loss: 0.0530 - acc: 0.9826 - val_loss: 0.2543 - val_acc: 0.9513\n",
      "Epoch 23/50\n",
      "60000/60000 [==============================] - 1s 10us/step - loss: 0.0452 - acc: 0.9857 - val_loss: 0.2717 - val_acc: 0.9472\n",
      "Epoch 24/50\n",
      "60000/60000 [==============================] - 1s 11us/step - loss: 0.0476 - acc: 0.9846 - val_loss: 0.2515 - val_acc: 0.9496\n",
      "Epoch 25/50\n",
      "60000/60000 [==============================] - 1s 10us/step - loss: 0.0438 - acc: 0.9856 - val_loss: 0.2596 - val_acc: 0.9501\n",
      "Epoch 26/50\n",
      "60000/60000 [==============================] - 1s 11us/step - loss: 0.0403 - acc: 0.9869 - val_loss: 0.2604 - val_acc: 0.9516\n",
      "Epoch 27/50\n",
      "60000/60000 [==============================] - 1s 12us/step - loss: 0.0379 - acc: 0.9878 - val_loss: 0.2585 - val_acc: 0.9532\n",
      "Epoch 28/50\n",
      "60000/60000 [==============================] - 1s 11us/step - loss: 0.0376 - acc: 0.9875 - val_loss: 0.2673 - val_acc: 0.9544\n",
      "Epoch 29/50\n",
      "60000/60000 [==============================] - 1s 10us/step - loss: 0.0327 - acc: 0.9892 - val_loss: 0.2733 - val_acc: 0.9510\n",
      "Epoch 30/50\n",
      "60000/60000 [==============================] - 1s 10us/step - loss: 0.0535 - acc: 0.9834 - val_loss: 0.2610 - val_acc: 0.9521\n",
      "Epoch 31/50\n",
      "60000/60000 [==============================] - 1s 10us/step - loss: 0.0379 - acc: 0.9870 - val_loss: 0.2710 - val_acc: 0.9537\n",
      "Epoch 32/50\n",
      "60000/60000 [==============================] - 1s 9us/step - loss: 0.0482 - acc: 0.9852 - val_loss: 0.2837 - val_acc: 0.9503\n",
      "Epoch 33/50\n",
      "60000/60000 [==============================] - 1s 9us/step - loss: 0.0432 - acc: 0.9857 - val_loss: 0.2991 - val_acc: 0.9534\n",
      "Epoch 34/50\n",
      "60000/60000 [==============================] - 1s 10us/step - loss: 0.0427 - acc: 0.9863 - val_loss: 0.2631 - val_acc: 0.9549\n",
      "Epoch 35/50\n",
      "60000/60000 [==============================] - 1s 11us/step - loss: 0.0316 - acc: 0.9892 - val_loss: 0.2649 - val_acc: 0.9557\n",
      "Epoch 36/50\n",
      "60000/60000 [==============================] - 1s 10us/step - loss: 0.0285 - acc: 0.9910 - val_loss: 0.2667 - val_acc: 0.9558\n",
      "Epoch 37/50\n",
      "60000/60000 [==============================] - 1s 11us/step - loss: 0.0244 - acc: 0.9916 - val_loss: 0.2771 - val_acc: 0.9568\n",
      "Epoch 38/50\n",
      "60000/60000 [==============================] - 1s 10us/step - loss: 0.0467 - acc: 0.9853 - val_loss: 0.2735 - val_acc: 0.9574\n",
      "Epoch 39/50\n",
      "60000/60000 [==============================] - 1s 12us/step - loss: 0.0342 - acc: 0.9886 - val_loss: 0.2999 - val_acc: 0.9539\n",
      "Epoch 40/50\n",
      "60000/60000 [==============================] - 1s 12us/step - loss: 0.0344 - acc: 0.9891 - val_loss: 0.2844 - val_acc: 0.9566\n",
      "Epoch 41/50\n",
      "60000/60000 [==============================] - 1s 11us/step - loss: 0.0443 - acc: 0.9869 - val_loss: 0.3181 - val_acc: 0.9532\n",
      "Epoch 42/50\n",
      "60000/60000 [==============================] - 1s 10us/step - loss: 0.0381 - acc: 0.9884 - val_loss: 0.3013 - val_acc: 0.9565\n",
      "Epoch 43/50\n",
      "60000/60000 [==============================] - 1s 10us/step - loss: 0.0329 - acc: 0.9900 - val_loss: 0.3068 - val_acc: 0.9589\n",
      "Epoch 44/50\n",
      "60000/60000 [==============================] - 1s 9us/step - loss: 0.0311 - acc: 0.9907 - val_loss: 0.2972 - val_acc: 0.9601\n",
      "Epoch 45/50\n",
      "60000/60000 [==============================] - 1s 10us/step - loss: 0.0200 - acc: 0.9934 - val_loss: 0.2793 - val_acc: 0.9597\n",
      "Epoch 46/50\n",
      "60000/60000 [==============================] - 1s 10us/step - loss: 0.0195 - acc: 0.9935 - val_loss: 0.2908 - val_acc: 0.9604\n",
      "Epoch 47/50\n",
      "60000/60000 [==============================] - 1s 9us/step - loss: 0.0276 - acc: 0.9912 - val_loss: 0.3212 - val_acc: 0.9568\n",
      "Epoch 48/50\n",
      "60000/60000 [==============================] - 1s 10us/step - loss: 0.0361 - acc: 0.9896 - val_loss: 0.3211 - val_acc: 0.9578\n",
      "Epoch 49/50\n",
      "60000/60000 [==============================] - 1s 10us/step - loss: 0.0297 - acc: 0.9911 - val_loss: 0.3076 - val_acc: 0.9597\n",
      "Epoch 50/50\n",
      "60000/60000 [==============================] - 1s 9us/step - loss: 0.0264 - acc: 0.9912 - val_loss: 0.3100 - val_acc: 0.9604\n"
     ]
    },
    {
     "data": {
      "text/plain": [
       "<keras.callbacks.callbacks.History at 0x6307f0890>"
      ]
     },
     "execution_count": 31,
     "metadata": {},
     "output_type": "execute_result"
    }
   ],
   "source": [
    "model.fit(train_images,train_labels,epochs=50,batch_size=512,validation_data=(test_images,test_labels))"
   ]
  },
  {
   "cell_type": "code",
   "execution_count": null,
   "metadata": {},
   "outputs": [],
   "source": []
  }
 ],
 "metadata": {
  "kernelspec": {
   "display_name": "Python 3",
   "language": "python",
   "name": "python3"
  },
  "language_info": {
   "codemirror_mode": {
    "name": "ipython",
    "version": 3
   },
   "file_extension": ".py",
   "mimetype": "text/x-python",
   "name": "python",
   "nbconvert_exporter": "python",
   "pygments_lexer": "ipython3",
   "version": "3.7.6"
  }
 },
 "nbformat": 4,
 "nbformat_minor": 4
}
